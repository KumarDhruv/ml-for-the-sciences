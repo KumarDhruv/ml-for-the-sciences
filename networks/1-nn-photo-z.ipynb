{
 "cells": [
  {
   "cell_type": "markdown",
   "metadata": {
    "deletable": true,
    "editable": true
   },
   "source": [
    "# Shallow Learning: Neural Networks 101\n",
    "\n",
    "A basic assumption of many classifications schemes is linear separability (see earlier notes). This assumption will lead to poor classification performance in cases that aren't separable by some hyperplane. A similar problem arises for decision trees and forests when the features don't align well along the coordinate axes of the feature space. The situation becomes quite clear in [this comparison](http://scikit-learn.org/stable/auto_examples/classification/plot_classifier_comparison.html#sphx-glr-auto-examples-classification-plot-classifier-comparison-py) from the scikit-learn website:\n",
    "\n",
    "![Classifier comparison from scikit-learn](http://scikit-learn.org/stable/_images/sphx_glr_plot_classifier_comparison_001.png)\n",
    "\n",
    "Linear SVM (3rd column) does very well for the linearly separable case (last row), but is really troubled with the Yin-Yang and the inside-outside cases (first and second row). In contrast, trees and forests (6th and 7th columns) present boxy approximations, but generally follow he features quite well. Much smoother approximations can be had from a SVM that uses Radial Basis Functions as kernels (4th column) and neural nets (8th column).\n",
    "\n",
    "The key to both is that they use non-linear transformation of the data, which results in curved decision boundaries. Let's look in detail how neural networks do that.\n",
    "\n",
    "## Universal approximators\n",
    "\n",
    "It might be strange to look at networks from the perspective of regression since they are mostly used for classifications. But bear with me.\n",
    "\n",
    "When we want to approximate the mapping $X\\rightarrow Y$ as observed with $N$ samples $\\lbrace x_i,y_i\\rbrace, x_i\\in\\mathbb{R}^D,y_i\\in\\mathbb{R}$, we first need to account for the dimensionality difference and then for the unknown behavior of the mapping. The first problem can trivially solved by projecting the samples $x $ onto some basis $w$, the second by allowing any function with scalar arguments. Combined this gives us the regression function $\\tilde{y}_i = g(w^\\top x_i)$, which already provides quite some flexibility. But we can do *a lot* better by using multiple of those regressors and combining them:\n",
    "$$\n",
    "\\tilde{y}_i = \\sum_k^K g_k(w_k^\\top x_i)\n",
    "$$\n",
    "It is clear that with $K\\rightarrow\\infty$ an enormous class of mappings can be approximated, which is why this form is called a **universal approximator**. It is limited, however, to mixtures of scalar functions, but that is really the only restriction. The optimization would have to determine the $w_k$ *and* the functions $g_k$. The concept is known as [projection pursuit regression](https://en.wikipedia.org/wiki/Projection_pursuit_regression), and we will not into details.\n",
    "\n",
    "However, if we now replace the unknown function $g_k$ with a known and fixed function $\\sigma$, we get a set of intermediate variables\n",
    "$$\n",
    "z_k = \\sigma(w_k^\\top x)\\ \\text{with}\\ w_k\\in\\mathbb{R}^D\\ \\ \\forall k\\in\\lbrace1,\\dots,K\\rbrace\n",
    "$$\n",
    "This is in fact what the simplest neural network, the single-layer perceptron, does at the beginning. \n",
    "\n",
    "*[For experts: we'll ignore the bias term, which is equivalent to adding a constant 1 as extra feature to the samples. That simply shortens the equations at no loss in generality.]*"
   ]
  },
  {
   "cell_type": "code",
   "execution_count": null,
   "metadata": {
    "collapsed": false
   },
   "outputs": [],
   "source": [
    "import numpy as np\n",
    "import matplotlib.pyplot as plt\n",
    "\n",
    "%matplotlib inline\n",
    "from drawNetwork import *\n",
    "drawNN([5,3], labels=[\"$X$\",\"$Z$\"])"
   ]
  },
  {
   "cell_type": "markdown",
   "metadata": {},
   "source": [
    "The function $\\sigma$ is called **activation function** and there are several typical ones:"
   ]
  },
  {
   "cell_type": "code",
   "execution_count": null,
   "metadata": {
    "collapsed": false
   },
   "outputs": [],
   "source": [
    "x = np.linspace(-5,5,101)\n",
    "plt.plot(x,x,label='linear')\n",
    "plt.plot(x,1/(1+np.exp(-x)), label='sigmoid')\n",
    "plt.plot(x,np.tanh(x), label='tanh')\n",
    "plt.plot(x,np.maximum(0,x), label='relu')\n",
    "plt.legend(loc='lower right')"
   ]
  },
  {
   "cell_type": "markdown",
   "metadata": {},
   "source": [
    "It's worth noting that if $\\sigma$ is linear, the model is a fancy way of describing a matrix operation, so we're mostly interested in non-linear functions here. There are *some* guidelines which ones to use, but I won't go into those.\n",
    "\n",
    "## Output layers\n",
    "\n",
    "So far, we've built a single layer with some non-linear transformation and independent weights for each node $z_k$. These are supposed to allow some form of approximation, but of what?\n",
    "\n",
    "This will become clearer when we discuss how we'll complete our simplest network. In the universal approximator above, we simply summed over the transformed variables. That's a fine choice, in particular if the goal of the network is to perform a regression. For more flexibility, we'll allow for weights in that summation:\n",
    "$$\n",
    "t =\\beta^\\top z \\ \\text{with}\\ \\beta\\in\\mathbb{R}^K\n",
    "$$"
   ]
  },
  {
   "cell_type": "code",
   "execution_count": null,
   "metadata": {
    "collapsed": false
   },
   "outputs": [],
   "source": [
    "drawNN([5,3,1], labels=[\"$X$\",\"$Z$\",\"$T$\"])"
   ]
  },
  {
   "cell_type": "markdown",
   "metadata": {},
   "source": [
    "Multivariate regression, i.e. the learning of some mapping $\\mathbb{R}^D\\rightarrow\\mathbb{R}^M$, can be trivially realized with multiple output nodes\n",
    "$$\n",
    "t_m =\\beta_m^\\top z \\ \\text{with}\\ \\beta_m\\in\\mathbb{R}^K\\ \\forall m \\in \\lbrace1,\\dots,M\\rbrace\n",
    "$$"
   ]
  },
  {
   "cell_type": "code",
   "execution_count": null,
   "metadata": {
    "collapsed": false
   },
   "outputs": [],
   "source": [
    "drawNN([5,3,2], labels=[\"$X$\",\"$Z$\",\"$T$\"])"
   ]
  },
  {
   "cell_type": "markdown",
   "metadata": {},
   "source": [
    "But what if we want a classifier? Then, these output simply have to go through another non-linear transformation to ensure that they are bound between 0 and 1 and sum up to 1. One choice is the **softmax** function\n",
    "$$\n",
    "p_m = \\frac{\\exp(t_m)}{\\sum_l \\exp(t_l)}\n",
    "$$\n",
    "which is the multivariate form of the logit regression we saw earlier in linear classification. The classifier would then choose the class with the maximum $p_m$.\n",
    "\n",
    "Let's look what happened here: we've transformed the original samples $x_i$ in some non-linear fashion, and then run a classifier on the $z_k$ that assumes linear separability. This is quite similar to the kernel trick in SVMs (finding some non-linear mapping to a higher-dimensional space to help with the separability), but with one major difference. The approximator part of the network does not require us to select a kernel function beforehand; instead we pick an activation function, but the weights are determined *from the data*!\n",
    "\n",
    "> A perceptron classifier is a conventional classifier attached to a non-linear approximator, whose parameters are determined from the data \n",
    "\n",
    "Leaves the important question: how are the weigths determined?\n",
    "\n",
    "## Network training\n",
    "\n",
    "We start by defining a cost function $R=\\sum_i R_i$. In the multi-variate regression case, we use the quadratic cost function\n",
    "$$\n",
    "R_i = \\sum_m \\left(y_{im} - t_m(x_i)\\right)^2.\n",
    "$$\n",
    "The key to finding the best network weights is to understand that the target values ($t$ or $p$) are **differentiable** functions of the inputs, so we can search for the weights by gradient descent. For the regression case we can write the network equations as\n",
    "$$\n",
    "t_m(x_i) = \\beta_m^\\top z(x_i) = \\beta_m^\\top\\left[\\sigma(w_1^\\top x_i), \\dots, \\sigma(w_K^\\top x_i)\\right]\\ \\forall m \\in \\lbrace 1,\\dots,M\\rbrace.\n",
    "$$\n",
    "which gives\n",
    "$$\n",
    "\\begin{split}\n",
    "&\\frac{\\partial R_i}{\\partial \\beta_{ml}}=-2(y_{im}-t_m(x_i))\\,z_l(x_i)\\equiv \\delta_{mi}z_l(x_i)\\\\\n",
    "&\\frac{\\partial R_i}{\\partial w_{lj}} = \\sum_m^M -2(y_{im}-t_m(x_i))\\,\\beta_{ml}\\, \\sigma^\\prime(w_l^\\top x_i)\\, x_{ij} \\equiv s_{li} x_{ij}\n",
    "\\end{split}\n",
    "$$\n",
    "\n",
    "\n",
    "For regression the derivation follows the same lines with the cross-entropy\n",
    "$$\n",
    "R_i = \\sum_m y_{im}\\log p_m(x_i)\n",
    "$$\n",
    "as cost function and an extra derivative because of the softmax transformation. As usual, the update equations look like\n",
    "$$\n",
    "\\begin{split}\n",
    "&\\beta_{ml}^{\\text{it}+1} = \\beta_{ml}^{\\text{it}} - \\gamma^\\text{it} \\sum_i\\frac{\\partial R_i}{\\partial \\beta_{ml}}\\\\\n",
    "&w_{lj}^{\\text{it}+1} = w_{lj}^{\\text{it}}- \\gamma^\\text{it} \\sum_i\\frac{\\partial R_i}{\\partial w_{lj}}\n",
    "\\end{split}\n",
    "$$\n",
    "with a **learning rate** $\\gamma>0$.  We can now compute these gradients in a two-step process. In the *forward pass*, we fix all weights and compute all $t_m(x_i)$. In the *backward pass*, we compute the current errors $\\delta_{mi}$ and propagate them back the the previous layer by $s_{li} = \\sigma^\\prime(w_l^\\top x_i) \\sum_m^M\\beta_{ml}\\delta_{mi}$, which follows directly from the definition of $s_{li}$ above. This scheme, for obvious reasons, it called **back-propagation** and it's the fundamental concept of network training (and the reason why Google's TensorFlow is so good with [automatic differentiation](https://github.com/dfm/tf-tutorial)).\n",
    "\n",
    "## Photometric redshifts from a simple network\n",
    "\n",
    "We will do a (simplistic) test case of galaxy photometry from 4 different spectral templates, redshifted between 0 and 1, and then observed in 4 different optical filters."
   ]
  },
  {
   "cell_type": "code",
   "execution_count": null,
   "metadata": {
    "collapsed": false,
    "deletable": true,
    "editable": true
   },
   "outputs": [],
   "source": [
    "# load four template spectra\n",
    "import fitsio\n",
    "path = \"data/\"\n",
    "templates = [1,3,5,7]\n",
    "seds = {}\n",
    "for k in templates:\n",
    "    fp = fitsio.FITS(path+'bpz_%d.sed.fits' % k)\n",
    "    seds[k] = fp[1].read()\n",
    "    fp.close()\n",
    "    plt.semilogy(seds[k]['frequency'], seds[k]['spectral_flux'], label='SED %d' % k)\n",
    "plt.legend(loc='lower left')\n",
    "plt.xlabel('f [THz]')\n",
    "plt.ylabel(r'$f_\\nu$')"
   ]
  },
  {
   "cell_type": "code",
   "execution_count": null,
   "metadata": {
    "collapsed": false,
    "deletable": true,
    "editable": true
   },
   "outputs": [],
   "source": [
    "# load the filters\n",
    "bands = ['B','V','R','I']\n",
    "filters = {}\n",
    "for b in bands:\n",
    "    fp = fitsio.FITS(path+'johnson%s.fits' % b)\n",
    "    filters[b] = fp[1].read()\n",
    "    fp.close()\n",
    "    plt.semilogy(filters[b]['frequency'], filters[b]['transmission'], label='Johnson %s' % b)\n",
    "plt.legend(loc='lower left')\n",
    "plt.xlabel('f [THz]')\n",
    "plt.ylabel(r'$T_\\nu$')"
   ]
  },
  {
   "cell_type": "code",
   "execution_count": null,
   "metadata": {
    "collapsed": false,
    "deletable": true,
    "editable": true
   },
   "outputs": [],
   "source": [
    "def extrap(x, xp, yp):\n",
    "    \"\"\"np.interp function with linear extrapolation\"\"\"\n",
    "    y = np.interp(x, xp, yp)\n",
    "    y = np.where(x<xp[0], yp[0]+(x-xp[0])*(yp[0]-yp[1])/(xp[0]-xp[1]), y)\n",
    "    y = np.where(x>xp[-1], yp[-1]+(x-xp[-1])*(yp[-1]-yp[-2])/(xp[-1]-xp[-2]), y)\n",
    "    return y\n",
    "\n",
    "# redshift and apply filters\n",
    "zs = np.linspace(0,1,101)\n",
    "photo = np.empty(len(templates)*len(zs), dtype=[('template','int'),('redshift','float'),('flux','4f')])\n",
    "i=0      \n",
    "for t in templates:\n",
    "    nu_t = seds[t]['frequency']\n",
    "    f_t = seds[t]['spectral_flux']\n",
    "    for z in zs:\n",
    "        flux = np.empty(len(bands))\n",
    "        for j in range(len(bands)):\n",
    "            b = bands[j]\n",
    "            nu_b = filters[b]['frequency']\n",
    "            T_b = filters[b]['transmission']\n",
    "            # shift sed frequency by 1/(1+z) and interpolate at nu_b\n",
    "            f_t_z = extrap(-nu_b, -nu_t/(1+z), f_t) # nu decreaseing, need to be increasing for interp/extrap\n",
    "            # multiply with filter curve\n",
    "            f_t_z_b = f_t_z * T_b\n",
    "            # integrate as broadband color\n",
    "            flux[j] = f_t_z_b.sum()\n",
    "        photo[i] = (t,z,flux)\n",
    "        i+=1\n",
    "\n",
    "for t in templates:\n",
    "    mask = photo['template'] == t\n",
    "    plt.plot(photo[mask]['redshift'],photo[mask]['flux'][:,0]-photo[mask]['flux'][:,1], label='SED %d' % t)\n",
    "plt.legend(loc='upper right')\n",
    "plt.xlabel('z')\n",
    "plt.ylabel('B-V')"
   ]
  },
  {
   "cell_type": "markdown",
   "metadata": {
    "collapsed": false,
    "deletable": true,
    "editable": true
   },
   "source": [
    "Note that the \"color\" axis is not in magnitudes, but in per-band fluxes, so the typically intuition for what colors mean doesn't apply here. The point is that these templates strongly overlap in some part of the \"color\"-redshift space. They also overlap in the space of multiple colors:"
   ]
  },
  {
   "cell_type": "code",
   "execution_count": null,
   "metadata": {
    "collapsed": false,
    "deletable": true,
    "editable": true
   },
   "outputs": [],
   "source": [
    "def plotColors(data, scatter=False, legend=True, label=False, ax=None):\n",
    "    _templates = np.unique(data['template'])\n",
    "    if ax is None:\n",
    "        fig = plt.figure()\n",
    "        ax = fig.add_subplot(111)\n",
    "        \n",
    "    for t in _templates:\n",
    "        mask = data['template'] == t\n",
    "        x = data[mask]['flux'][:,1]-data[mask]['flux'][:,3] # V-I\n",
    "        y = data[mask]['flux'][:,0]-data[mask]['flux'][:,1] # B-V\n",
    "        if scatter:\n",
    "            ax.scatter(x, y, label='SED %d' % t, s=3)\n",
    "        else:\n",
    "            ax.plot(x, y, label='SED %d' % t)\n",
    "        if label:\n",
    "            ax.text(x[0], y[0], '$z=0$', size=6, ha='center')\n",
    "            ax.text(x[-1], y[-1], '$z=1$', size=6, ha='center')\n",
    "    if legend:\n",
    "        ax.legend(loc='upper right')\n",
    "    ax.set_xlabel('V-I')\n",
    "    ax.set_ylabel('B-V')\n",
    "    \n",
    "plotColors(photo, label=True)"
   ]
  },
  {
   "cell_type": "code",
   "execution_count": null,
   "metadata": {
    "collapsed": false,
    "deletable": true,
    "editable": true
   },
   "outputs": [],
   "source": [
    "# training samples with some noise\n",
    "def createTrainingData(photo, std=0.02, withhold_template=None):\n",
    "    data = photo.copy()\n",
    "    data['flux'] *= 1+np.random.normal(scale=std ,size=(len(data),len(bands)))\n",
    "    if withhold_template is not None:\n",
    "        mask = data['template'] == withhold_template\n",
    "        data = data[~mask]\n",
    "    return data\n",
    "\n",
    "data = createTrainingData(photo)\n",
    "plotColors(data, scatter=True)"
   ]
  },
  {
   "cell_type": "markdown",
   "metadata": {},
   "source": [
    "We'll now create a perceptron classifier with a single hidden layer that is trained classify the given colors too determine the galaxy template, marginalized over the redshift. It's simpler to interpret visually what the network is capable of."
   ]
  },
  {
   "cell_type": "code",
   "execution_count": null,
   "metadata": {
    "collapsed": false,
    "deletable": true,
    "editable": true
   },
   "outputs": [],
   "source": [
    "from sklearn.neural_network import MLPClassifier, MLPRegressor\n",
    "from sklearn.preprocessing import StandardScaler\n",
    "\n",
    "# perform template type classification, marginalized over redshift\n",
    "def createTemplateTraining(data):\n",
    "    training_templates = np.unique(data['template'])\n",
    "    N = len(zs)*len(training_templates)\n",
    "    X = np.empty((N,2))\n",
    "    Y = np.empty(N, dtype='int')\n",
    "    i = 0\n",
    "    for t in training_templates:\n",
    "        mask = data['template'] == t\n",
    "        X[i:i+mask.sum(),1] = data[mask]['flux'][:,0]-data[mask]['flux'][:,1]\n",
    "        X[i:i+mask.sum(),0] = data[mask]['flux'][:,1]-data[mask]['flux'][:,3]\n",
    "        Y[i:i+mask.sum()] = t\n",
    "        i += mask.sum()\n",
    "    return X,Y\n",
    "\n",
    "# perform redshift regression, marginalized over template\n",
    "def createRedshiftTraining(data):\n",
    "    training_templates = np.unique(data['template'])\n",
    "    N = len(zs)*len(training_templates)\n",
    "    X = np.empty((N,2))\n",
    "    Y = np.empty(N)\n",
    "    i = 0\n",
    "    for t in training_templates:\n",
    "        mask = data['template'] == t\n",
    "        X[i:i+mask.sum(),1] = data[mask]['flux'][:,0]-data[mask]['flux'][:,1]\n",
    "        X[i:i+mask.sum(),0] = data[mask]['flux'][:,1]-data[mask]['flux'][:,3]\n",
    "        Y[i:i+mask.sum()] = data[mask]['redshift']\n",
    "        i += mask.sum()\n",
    "    return X,Y\n",
    "\n",
    "# need to define tab10 for matplotlob < 2.1 (where it's not included as colormap...)\n",
    "from matplotlib.colors import ListedColormap\n",
    "_tab10_data = (\n",
    "    (0.12156862745098039, 0.4666666666666667,  0.7058823529411765  ),  # 1f77b4\n",
    "    (1.0,                 0.4980392156862745,  0.054901960784313725),  # ff7f0e\n",
    "    (0.17254901960784313, 0.6274509803921569,  0.17254901960784313 ),  # 2ca02c\n",
    "    (0.8392156862745098,  0.15294117647058825, 0.1568627450980392  ),  # d62728\n",
    "    (0.5803921568627451,  0.403921568627451,   0.7411764705882353  ),  # 9467bd\n",
    "    (0.5490196078431373,  0.33725490196078434, 0.29411764705882354 ),  # 8c564b\n",
    "    (0.8901960784313725,  0.4666666666666667,  0.7607843137254902  ),  # e377c2\n",
    "    (0.4980392156862745,  0.4980392156862745,  0.4980392156862745  ),  # 7f7f7f\n",
    "    (0.7372549019607844,  0.7411764705882353,  0.13333333333333333 ),  # bcbd22\n",
    "    (0.09019607843137255, 0.7450980392156863,  0.8117647058823529),    # 17becf\n",
    ")\n",
    "cmap_tab10 = ListedColormap(_tab10_data, \"tab10\")\n",
    "\n",
    "def trainNetwork(data, kind='template', scaler=StandardScaler(), n_nodes=15, alpha=1e-5, plot=True):\n",
    "    assert kind in ['template', 'redshift']\n",
    "    if kind == \"template\":\n",
    "        X, Y = createTemplateTraining(data)\n",
    "        clf = MLPClassifier(solver='lbfgs', alpha=alpha, hidden_layer_sizes=(n_nodes,), random_state=1)\n",
    "    else:\n",
    "        X, Y = createRedshiftTraining(data)\n",
    "        clf = MLPRegressor(solver='lbfgs', alpha=alpha, hidden_layer_sizes=(n_nodes,), random_state=1)\n",
    "    X_ = scaler.fit_transform(X)\n",
    "    clf.fit(X_, Y)\n",
    "    \n",
    "    if plot:\n",
    "        h=100\n",
    "        upper = np.max(X, axis=0) * 1.05\n",
    "        lower = np.min(X, axis=0) * 1.05\n",
    "        test_pos = np.meshgrid(np.linspace(lower[0],upper[0],h), np.linspace(lower[1],upper[1],h))\n",
    "        test_pos = np.dstack((test_pos[0].flatten(), test_pos[1].flatten()))[0]\n",
    "        test_pos = scaler.transform(test_pos)\n",
    "        \n",
    "        if kind == \"template\":\n",
    "            pred = np.argmax(clf.predict_proba(test_pos), axis=1)\n",
    "            cmap = cmap_tab10\n",
    "        else:\n",
    "            pred = clf.predict(test_pos)\n",
    "            cmap = 'Spectral_r'\n",
    "        pred = pred.reshape(h,h)\n",
    "\n",
    "        fig = plt.figure()\n",
    "        ax = fig.add_subplot(111)\n",
    "        if kind == \"template\":\n",
    "            ax.imshow(pred, cmap=cmap, vmin=0, vmax=10, alpha=0.5, extent=(lower[0], upper[0], lower[1], upper[1]), aspect='auto')\n",
    "        if kind == \"redshift\":\n",
    "            c = ax.imshow(pred, cmap=cmap, extent=(lower[0], upper[0], lower[1], upper[1]), aspect='auto')\n",
    "            cb = fig.colorbar(c)\n",
    "            cb.set_label('redshift')\n",
    "        plotColors(data, ax=ax, legend=(kind==\"template\"), scatter=True, label=(kind==\"redshift\"))\n",
    "        ax.set_xlim(lower[0],upper[0])\n",
    "        ax.set_ylim(lower[1],upper[1])\n",
    "    return clf"
   ]
  },
  {
   "cell_type": "code",
   "execution_count": null,
   "metadata": {
    "collapsed": false,
    "deletable": true,
    "editable": true,
    "scrolled": false
   },
   "outputs": [],
   "source": [
    "clf = trainNetwork(data, n_nodes=15)"
   ]
  },
  {
   "cell_type": "markdown",
   "metadata": {},
   "source": [
    "With 15 nodes in the hidden layer, we can see that it did a pretty good job drawing boundaries such that most regions are populated only by the samples of a given template. Note in particular that many of these boundaries are curved and some are inside of others. That's the advantage of the non-linear transformations here.\n",
    "\n",
    "We should, however, keep in mind that we've trained a network with quite a number of weights on just 400 noisy samples. We expect that it's not as good when we train it on some noise samples and then test it on another independent set:"
   ]
  },
  {
   "cell_type": "code",
   "execution_count": null,
   "metadata": {
    "collapsed": false,
    "deletable": true,
    "editable": true
   },
   "outputs": [],
   "source": [
    "X, Y = createTemplateTraining(photo)\n",
    "scaler = StandardScaler()\n",
    "scaler.fit(X)\n",
    "print (\"score with perfect data: %.3f\" % clf.score(X, Y))\n",
    "\n",
    "data_ = createTrainingData(photo)\n",
    "X_, Y_ = createTemplateTraining(data_)\n",
    "X_ = scaler.transform(X_)\n",
    "print (\"score with noisy data: %.3f\" % clf.score(X_, Y_))"
   ]
  },
  {
   "cell_type": "markdown",
   "metadata": {},
   "source": [
    "And now for the question: how many nodes do we need:"
   ]
  },
  {
   "cell_type": "code",
   "execution_count": null,
   "metadata": {
    "collapsed": false,
    "deletable": true,
    "editable": true,
    "scrolled": false
   },
   "outputs": [],
   "source": [
    "for n in [1,5,15,25]:\n",
    "    trainNetwork(data, n_nodes=n)"
   ]
  },
  {
   "cell_type": "markdown",
   "metadata": {},
   "source": [
    "As expected, the extent to which the classifier deviates from linear behavior increases with $n_nodes$. It would also increase with the number of hidden layers wedged in between the input and the output layers. As before with the activation function, the number of nodes and hidden layers are configuration parameters for which there are no rigorous guidelines. Experimentation and cross-validation are key."
   ]
  },
  {
   "cell_type": "markdown",
   "metadata": {
    "deletable": true,
    "editable": true
   },
   "source": [
    "## NN photo-z estimation\n",
    "\n",
    "We finish this intro with a (silly) regression case. Given a set of colors (two in fact), we ask the network to predict the redshift, ignoring that there are multiple solutions because there are four different spectral templates in the data."
   ]
  },
  {
   "cell_type": "code",
   "execution_count": null,
   "metadata": {
    "collapsed": false,
    "deletable": true,
    "editable": true,
    "scrolled": false
   },
   "outputs": [],
   "source": [
    "trainNetwork(data_, kind='redshift', n_nodes=30)"
   ]
  },
  {
   "cell_type": "markdown",
   "metadata": {
    "collapsed": false,
    "deletable": true,
    "editable": true,
    "scrolled": true
   },
   "source": [
    "We can see that for the red group (SED 7), it does recognize the difference between the low and high-redshift cases at the top-left of the plot. Similarly, the general behavior of the other types that redshift increases from left to right is well captured. But there are obviously regions with non-sensical estimates of $z<-0.5$. That's because there were no training data to put any penalty on such solutions. In essence, the non-linear nature of the networks means that there can be arbitrary extrapolation errors. It's therefore best to avoid areas with few or no training data.\n",
    "\n",
    "The regression in the central region is tough because different templates go through the same region in color space at different redshifts. Breaking this degenercy is possible but will require more data, more bands, and the hope that we have all possible galaxy types in the training sample. Yeah, photo-zs are hard!"
   ]
  },
  {
   "cell_type": "code",
   "execution_count": null,
   "metadata": {
    "collapsed": true
   },
   "outputs": [],
   "source": []
  }
 ],
 "metadata": {
  "kernelspec": {
   "display_name": "Python 3",
   "language": "python",
   "name": "python3"
  },
  "language_info": {
   "codemirror_mode": {
    "name": "ipython",
    "version": 3
   },
   "file_extension": ".py",
   "mimetype": "text/x-python",
   "name": "python",
   "nbconvert_exporter": "python",
   "pygments_lexer": "ipython3",
   "version": "3.5.2"
  }
 },
 "nbformat": 4,
 "nbformat_minor": 2
}
